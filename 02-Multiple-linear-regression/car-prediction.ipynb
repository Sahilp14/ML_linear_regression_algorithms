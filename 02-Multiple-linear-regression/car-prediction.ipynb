{
 "cells": [
  {
   "cell_type": "code",
   "execution_count": 1,
   "id": "514fb378",
   "metadata": {},
   "outputs": [],
   "source": [
    "import numpy as np\n",
    "import pandas as pd\n",
    "import matplotlib.pyplot as plt\n",
    "import seaborn as sns\n",
    "import warnings\n",
    "warnings.filterwarnings('ignore')"
   ]
  },
  {
   "cell_type": "code",
   "execution_count": 2,
   "id": "8ae47e47",
   "metadata": {},
   "outputs": [],
   "source": [
    "ds = pd.read_csv(\"car_price_prediction_.csv\")"
   ]
  },
  {
   "cell_type": "code",
   "execution_count": 9,
   "id": "ca48d9d3",
   "metadata": {},
   "outputs": [
    {
     "data": {
      "text/plain": [
       "array(['Tesla', 'BMW', 'Audi', 'Ford', 'Honda', 'Mercedes', 'Toyota'],\n",
       "      dtype=object)"
      ]
     },
     "execution_count": 9,
     "metadata": {},
     "output_type": "execute_result"
    }
   ],
   "source": [
    "ds['Brand'].unique()"
   ]
  },
  {
   "cell_type": "code",
   "execution_count": 11,
   "id": "e3b1fe0c",
   "metadata": {},
   "outputs": [
    {
     "data": {
      "text/plain": [
       "array(['Petrol', 'Electric', 'Diesel', 'Hybrid'], dtype=object)"
      ]
     },
     "execution_count": 11,
     "metadata": {},
     "output_type": "execute_result"
    }
   ],
   "source": [
    "ds['Fuel Type'].unique()"
   ]
  },
  {
   "cell_type": "code",
   "execution_count": 12,
   "id": "b450b785",
   "metadata": {},
   "outputs": [
    {
     "data": {
      "text/plain": [
       "array(['Manual', 'Automatic'], dtype=object)"
      ]
     },
     "execution_count": 12,
     "metadata": {},
     "output_type": "execute_result"
    }
   ],
   "source": [
    "ds['Transmission'].unique()"
   ]
  },
  {
   "cell_type": "code",
   "execution_count": 13,
   "id": "f267946e",
   "metadata": {},
   "outputs": [
    {
     "data": {
      "text/plain": [
       "array(['New', 'Used', 'Like New'], dtype=object)"
      ]
     },
     "execution_count": 13,
     "metadata": {},
     "output_type": "execute_result"
    }
   ],
   "source": [
    "ds['Condition'].unique()"
   ]
  },
  {
   "cell_type": "code",
   "execution_count": 14,
   "id": "acc4a70a",
   "metadata": {},
   "outputs": [
    {
     "data": {
      "text/plain": [
       "array(['Model X', '5 Series', 'A4', 'Model Y', 'Mustang', 'Q7', 'Q5',\n",
       "       'Civic', 'Explorer', 'Model 3', 'Fiesta', 'X3', 'GLA', 'A3', 'X5',\n",
       "       'C-Class', 'E-Class', 'CR-V', 'Camry', 'Accord', 'GLC', 'Corolla',\n",
       "       'Fit', 'Model S', 'Prius', '3 Series', 'RAV4', 'Focus'],\n",
       "      dtype=object)"
      ]
     },
     "execution_count": 14,
     "metadata": {},
     "output_type": "execute_result"
    }
   ],
   "source": [
    "ds['Model'].unique()"
   ]
  },
  {
   "cell_type": "code",
   "execution_count": 15,
   "id": "fb02d7a6",
   "metadata": {},
   "outputs": [
    {
     "data": {
      "text/html": [
       "<div>\n",
       "<style scoped>\n",
       "    .dataframe tbody tr th:only-of-type {\n",
       "        vertical-align: middle;\n",
       "    }\n",
       "\n",
       "    .dataframe tbody tr th {\n",
       "        vertical-align: top;\n",
       "    }\n",
       "\n",
       "    .dataframe thead th {\n",
       "        text-align: right;\n",
       "    }\n",
       "</style>\n",
       "<table border=\"1\" class=\"dataframe\">\n",
       "  <thead>\n",
       "    <tr style=\"text-align: right;\">\n",
       "      <th></th>\n",
       "      <th>Car ID</th>\n",
       "      <th>Brand</th>\n",
       "      <th>Year</th>\n",
       "      <th>Engine Size</th>\n",
       "      <th>Fuel Type</th>\n",
       "      <th>Transmission</th>\n",
       "      <th>Mileage</th>\n",
       "      <th>Condition</th>\n",
       "      <th>Price</th>\n",
       "      <th>Model</th>\n",
       "    </tr>\n",
       "  </thead>\n",
       "  <tbody>\n",
       "    <tr>\n",
       "      <th>0</th>\n",
       "      <td>1</td>\n",
       "      <td>Tesla</td>\n",
       "      <td>2016</td>\n",
       "      <td>2.3</td>\n",
       "      <td>Petrol</td>\n",
       "      <td>Manual</td>\n",
       "      <td>114832</td>\n",
       "      <td>New</td>\n",
       "      <td>26613.92</td>\n",
       "      <td>Model X</td>\n",
       "    </tr>\n",
       "    <tr>\n",
       "      <th>1</th>\n",
       "      <td>2</td>\n",
       "      <td>BMW</td>\n",
       "      <td>2018</td>\n",
       "      <td>4.4</td>\n",
       "      <td>Electric</td>\n",
       "      <td>Manual</td>\n",
       "      <td>143190</td>\n",
       "      <td>Used</td>\n",
       "      <td>14679.61</td>\n",
       "      <td>5 Series</td>\n",
       "    </tr>\n",
       "    <tr>\n",
       "      <th>2</th>\n",
       "      <td>3</td>\n",
       "      <td>Audi</td>\n",
       "      <td>2013</td>\n",
       "      <td>4.5</td>\n",
       "      <td>Electric</td>\n",
       "      <td>Manual</td>\n",
       "      <td>181601</td>\n",
       "      <td>New</td>\n",
       "      <td>44402.61</td>\n",
       "      <td>A4</td>\n",
       "    </tr>\n",
       "    <tr>\n",
       "      <th>3</th>\n",
       "      <td>4</td>\n",
       "      <td>Tesla</td>\n",
       "      <td>2011</td>\n",
       "      <td>4.1</td>\n",
       "      <td>Diesel</td>\n",
       "      <td>Automatic</td>\n",
       "      <td>68682</td>\n",
       "      <td>New</td>\n",
       "      <td>86374.33</td>\n",
       "      <td>Model Y</td>\n",
       "    </tr>\n",
       "    <tr>\n",
       "      <th>4</th>\n",
       "      <td>5</td>\n",
       "      <td>Ford</td>\n",
       "      <td>2009</td>\n",
       "      <td>2.6</td>\n",
       "      <td>Diesel</td>\n",
       "      <td>Manual</td>\n",
       "      <td>223009</td>\n",
       "      <td>Like New</td>\n",
       "      <td>73577.10</td>\n",
       "      <td>Mustang</td>\n",
       "    </tr>\n",
       "    <tr>\n",
       "      <th>...</th>\n",
       "      <td>...</td>\n",
       "      <td>...</td>\n",
       "      <td>...</td>\n",
       "      <td>...</td>\n",
       "      <td>...</td>\n",
       "      <td>...</td>\n",
       "      <td>...</td>\n",
       "      <td>...</td>\n",
       "      <td>...</td>\n",
       "      <td>...</td>\n",
       "    </tr>\n",
       "    <tr>\n",
       "      <th>2495</th>\n",
       "      <td>2496</td>\n",
       "      <td>Audi</td>\n",
       "      <td>2020</td>\n",
       "      <td>2.4</td>\n",
       "      <td>Petrol</td>\n",
       "      <td>Automatic</td>\n",
       "      <td>22650</td>\n",
       "      <td>Like New</td>\n",
       "      <td>61384.10</td>\n",
       "      <td>Q5</td>\n",
       "    </tr>\n",
       "    <tr>\n",
       "      <th>2496</th>\n",
       "      <td>2497</td>\n",
       "      <td>Audi</td>\n",
       "      <td>2001</td>\n",
       "      <td>5.7</td>\n",
       "      <td>Hybrid</td>\n",
       "      <td>Manual</td>\n",
       "      <td>77701</td>\n",
       "      <td>Like New</td>\n",
       "      <td>24710.35</td>\n",
       "      <td>A3</td>\n",
       "    </tr>\n",
       "    <tr>\n",
       "      <th>2497</th>\n",
       "      <td>2498</td>\n",
       "      <td>Ford</td>\n",
       "      <td>2021</td>\n",
       "      <td>1.1</td>\n",
       "      <td>Hybrid</td>\n",
       "      <td>Manual</td>\n",
       "      <td>272827</td>\n",
       "      <td>Like New</td>\n",
       "      <td>29902.45</td>\n",
       "      <td>Fiesta</td>\n",
       "    </tr>\n",
       "    <tr>\n",
       "      <th>2498</th>\n",
       "      <td>2499</td>\n",
       "      <td>Audi</td>\n",
       "      <td>2002</td>\n",
       "      <td>4.5</td>\n",
       "      <td>Diesel</td>\n",
       "      <td>Manual</td>\n",
       "      <td>229164</td>\n",
       "      <td>Like New</td>\n",
       "      <td>46085.67</td>\n",
       "      <td>Q5</td>\n",
       "    </tr>\n",
       "    <tr>\n",
       "      <th>2499</th>\n",
       "      <td>2500</td>\n",
       "      <td>Toyota</td>\n",
       "      <td>2005</td>\n",
       "      <td>4.6</td>\n",
       "      <td>Diesel</td>\n",
       "      <td>Automatic</td>\n",
       "      <td>80978</td>\n",
       "      <td>Used</td>\n",
       "      <td>16594.14</td>\n",
       "      <td>RAV4</td>\n",
       "    </tr>\n",
       "  </tbody>\n",
       "</table>\n",
       "<p>2500 rows × 10 columns</p>\n",
       "</div>"
      ],
      "text/plain": [
       "      Car ID   Brand  Year  Engine Size Fuel Type Transmission  Mileage  \\\n",
       "0          1   Tesla  2016          2.3    Petrol       Manual   114832   \n",
       "1          2     BMW  2018          4.4  Electric       Manual   143190   \n",
       "2          3    Audi  2013          4.5  Electric       Manual   181601   \n",
       "3          4   Tesla  2011          4.1    Diesel    Automatic    68682   \n",
       "4          5    Ford  2009          2.6    Diesel       Manual   223009   \n",
       "...      ...     ...   ...          ...       ...          ...      ...   \n",
       "2495    2496    Audi  2020          2.4    Petrol    Automatic    22650   \n",
       "2496    2497    Audi  2001          5.7    Hybrid       Manual    77701   \n",
       "2497    2498    Ford  2021          1.1    Hybrid       Manual   272827   \n",
       "2498    2499    Audi  2002          4.5    Diesel       Manual   229164   \n",
       "2499    2500  Toyota  2005          4.6    Diesel    Automatic    80978   \n",
       "\n",
       "     Condition     Price     Model  \n",
       "0          New  26613.92   Model X  \n",
       "1         Used  14679.61  5 Series  \n",
       "2          New  44402.61        A4  \n",
       "3          New  86374.33   Model Y  \n",
       "4     Like New  73577.10   Mustang  \n",
       "...        ...       ...       ...  \n",
       "2495  Like New  61384.10        Q5  \n",
       "2496  Like New  24710.35        A3  \n",
       "2497  Like New  29902.45    Fiesta  \n",
       "2498  Like New  46085.67        Q5  \n",
       "2499      Used  16594.14      RAV4  \n",
       "\n",
       "[2500 rows x 10 columns]"
      ]
     },
     "execution_count": 15,
     "metadata": {},
     "output_type": "execute_result"
    }
   ],
   "source": [
    "ds"
   ]
  },
  {
   "cell_type": "code",
   "execution_count": null,
   "id": "7ee7ac5e",
   "metadata": {},
   "outputs": [],
   "source": []
  },
  {
   "cell_type": "code",
   "execution_count": null,
   "id": "caaa9ef0",
   "metadata": {},
   "outputs": [],
   "source": []
  },
  {
   "cell_type": "code",
   "execution_count": null,
   "id": "09fbd971",
   "metadata": {},
   "outputs": [],
   "source": []
  }
 ],
 "metadata": {
  "kernelspec": {
   "display_name": "Python 3 (ipykernel)",
   "language": "python",
   "name": "python3"
  },
  "language_info": {
   "codemirror_mode": {
    "name": "ipython",
    "version": 3
   },
   "file_extension": ".py",
   "mimetype": "text/x-python",
   "name": "python",
   "nbconvert_exporter": "python",
   "pygments_lexer": "ipython3",
   "version": "3.11.5"
  }
 },
 "nbformat": 4,
 "nbformat_minor": 5
}
