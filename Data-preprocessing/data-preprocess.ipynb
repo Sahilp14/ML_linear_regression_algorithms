{
 "cells": [
  {
   "cell_type": "code",
   "execution_count": 1,
   "id": "f66527b4",
   "metadata": {},
   "outputs": [],
   "source": [
    "import numpy as np\n",
    "import pandas as pd"
   ]
  },
  {
   "cell_type": "code",
   "execution_count": 2,
   "id": "7c199e1b",
   "metadata": {},
   "outputs": [],
   "source": [
    "ds = pd.read_csv('data.csv')"
   ]
  },
  {
   "cell_type": "code",
   "execution_count": 3,
   "id": "b4856ecb",
   "metadata": {},
   "outputs": [
    {
     "name": "stdout",
     "output_type": "stream",
     "text": [
      "<class 'pandas.core.frame.DataFrame'>\n",
      "RangeIndex: 10 entries, 0 to 9\n",
      "Data columns (total 4 columns):\n",
      " #   Column     Non-Null Count  Dtype  \n",
      "---  ------     --------------  -----  \n",
      " 0   Country    10 non-null     object \n",
      " 1   Age        9 non-null      float64\n",
      " 2   Salary     9 non-null      float64\n",
      " 3   Purchased  10 non-null     object \n",
      "dtypes: float64(2), object(2)\n",
      "memory usage: 452.0+ bytes\n"
     ]
    }
   ],
   "source": [
    "ds.info()"
   ]
  },
  {
   "cell_type": "code",
   "execution_count": 3,
   "id": "b531ea82",
   "metadata": {},
   "outputs": [],
   "source": [
    "x = ds['Age'].mean()\n",
    "ds['Age'] = ds['Age'].fillna(x)\n",
    "\n",
    "x = ds['Salary'].mean()\n",
    "ds['Salary'] = ds['Salary'].fillna(x)"
   ]
  },
  {
   "cell_type": "code",
   "execution_count": 4,
   "id": "04e36808",
   "metadata": {},
   "outputs": [],
   "source": [
    "# OneHotEncoder\n",
    "from sklearn.preprocessing import OneHotEncoder\n",
    "\n",
    "ohe = OneHotEncoder(sparse_output = False)          # Creating object of OneHotEncoder\n",
    "encoded_data = ohe.fit_transform(ds[['Country']])   # transform country to numeric\n",
    "\n",
    "column_names = ohe.get_feature_names_out(['Country'])         # To get colunm name as Colunm_Spane for all others\n",
    "encoded_df = pd.DataFrame(data = encoded_data, columns = column_names)\n",
    "\n",
    "# Concatinating two dataframes\n",
    "ds = pd.concat([ds, encoded_df], axis=1)"
   ]
  },
  {
   "cell_type": "code",
   "execution_count": 5,
   "id": "ae85b11a",
   "metadata": {
    "scrolled": true
   },
   "outputs": [],
   "source": [
    "ds = ds.drop(columns = ['Country'])"
   ]
  },
  {
   "cell_type": "code",
   "execution_count": 6,
   "id": "ad920f9f",
   "metadata": {},
   "outputs": [],
   "source": [
    "# Label Encoder \n",
    "# It is used to convert data into numeric in existing single colunm\n",
    "\n",
    "from sklearn.preprocessing import LabelEncoder\n",
    "le = LabelEncoder()\n",
    "ds['Purchased'] = le.fit_transform(ds['Purchased'])"
   ]
  },
  {
   "cell_type": "code",
   "execution_count": 7,
   "id": "a77adb3e",
   "metadata": {},
   "outputs": [
    {
     "data": {
      "text/plain": [
       "array(['No'], dtype=object)"
      ]
     },
     "execution_count": 7,
     "metadata": {},
     "output_type": "execute_result"
    }
   ],
   "source": [
    "le.inverse_transform([0])  # to reverse the transformation from numeric to object "
   ]
  },
  {
   "cell_type": "code",
   "execution_count": 18,
   "id": "4e055710",
   "metadata": {},
   "outputs": [],
   "source": [
    "#6 Feature Scaling   (Large data scaliling to small)\n",
    "\n",
    "from sklearn.preprocessing import StandardScaler\n",
    "sc = StandardScaler()\n",
    "\n",
    "ds[[\"Age\",\"Salary\"]] = sc.fit_transform(ds[[\"Age\",\"Salary\"]])"
   ]
  },
  {
   "cell_type": "code",
   "execution_count": 16,
   "id": "121ad160",
   "metadata": {},
   "outputs": [
    {
     "data": {
      "text/plain": [
       "0.7110127588261582"
      ]
     },
     "execution_count": 16,
     "metadata": {},
     "output_type": "execute_result"
    }
   ],
   "source": [
    "z = (72000.000000 - 63777.777778) / 11564.099406\t  # z = (value - mean) - std do .desribe to get values \"z = (x - u) / s\"\n",
    "z"
   ]
  },
  {
   "cell_type": "code",
   "execution_count": 22,
   "id": "6f88e64a",
   "metadata": {},
   "outputs": [],
   "source": [
    "# input and output y\n",
    "#output  - purchased column  - Dependent colunm(variable)\n",
    "#input - all other columns  - Independent colunm(variable)\n",
    "\n",
    "X = ds[[\"Age\",\"Salary\",\"Country_France\",\"Country_Germany\",\"Country_Spain\"]]\n",
    "y = ds[[\"Purchased\"]]"
   ]
  },
  {
   "cell_type": "code",
   "execution_count": 24,
   "id": "005e11ab",
   "metadata": {},
   "outputs": [],
   "source": [
    "from sklearn.model_selection import train_test_split                           #random state means how many time to shuffle data\n",
    "X_train, X_test, y_train, y_test = train_test_split(X, y, test_size = 0.2, random_state = 0) "
   ]
  },
  {
   "cell_type": "code",
   "execution_count": null,
   "id": "acc0b844",
   "metadata": {},
   "outputs": [],
   "source": []
  }
 ],
 "metadata": {
  "kernelspec": {
   "display_name": "Python 3 (ipykernel)",
   "language": "python",
   "name": "python3"
  },
  "language_info": {
   "codemirror_mode": {
    "name": "ipython",
    "version": 3
   },
   "file_extension": ".py",
   "mimetype": "text/x-python",
   "name": "python",
   "nbconvert_exporter": "python",
   "pygments_lexer": "ipython3",
   "version": "3.11.5"
  }
 },
 "nbformat": 4,
 "nbformat_minor": 5
}
